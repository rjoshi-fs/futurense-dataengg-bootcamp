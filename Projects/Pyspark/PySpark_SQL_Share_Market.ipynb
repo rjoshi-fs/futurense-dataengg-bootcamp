{
 "cells": [
  {
   "cell_type": "code",
   "execution_count": 0,
   "metadata": {
    "application/vnd.databricks.v1+cell": {
     "cellMetadata": {
      "byteLimit": 2048000,
      "rowLimit": 10000
     },
     "inputWidgets": {},
     "nuid": "2c1a28d9-7e2e-48ee-90ad-7759ab39e3a1",
     "showTitle": false,
     "title": ""
    }
   },
   "outputs": [],
   "source": [
    "rdd=sc.textFile('/FileStore/tables/sharemarket.csv')"
   ]
  },
  {
   "cell_type": "code",
   "execution_count": 0,
   "metadata": {
    "application/vnd.databricks.v1+cell": {
     "cellMetadata": {
      "byteLimit": 2048000,
      "rowLimit": 10000
     },
     "inputWidgets": {},
     "nuid": "796e8a1d-5fb6-454b-b899-3b3e5990ee2e",
     "showTitle": false,
     "title": ""
    }
   },
   "outputs": [
    {
     "output_type": "stream",
     "name": "stdout",
     "output_type": "stream",
     "text": [
      "Out[2]: ['N,N1,IRFC,BOND 8.00% PA TAX FREE S1,1086,1085,1085,1084.54,1085,3371959.44,3108, ,8,1194,1050',\n 'N,N1,JNPT,BOND 6.82% PA TAX FREE S1,1001,1007.1,1015,1007.1,1015,51370,51, ,2,1529.99,1000',\n 'N,N1,NHAI,BOND 8.20% PA TAX FREE S1,1091.38,1092,1092,1087,1089.98,3861145.49,3544, ,39,1140,1045',\n 'N,N1,NTPC,8.41%S-R-NCD SERIES 1A,1198.99,1135,1135,1135,1135,113500,100, ,1,1275,1022.1',\n 'N,N1,RECLTD,TAXFREE SEC NCD TR1 S1,1083.54,1088,1088,1085,1085,108530,100, ,2,1184.8,1041']"
     ]
    }
   ],
   "source": [
    "rdd.take(5)"
   ]
  },
  {
   "cell_type": "code",
   "execution_count": 0,
   "metadata": {
    "application/vnd.databricks.v1+cell": {
     "cellMetadata": {
      "byteLimit": 2048000,
      "rowLimit": 10000
     },
     "inputWidgets": {},
     "nuid": "c7170361-bbf1-4701-be01-296d8d053d8b",
     "showTitle": false,
     "title": ""
    }
   },
   "outputs": [],
   "source": [
    "rdd1 = rdd.map(lambda row: row.split(','))\n"
   ]
  },
  {
   "cell_type": "code",
   "execution_count": 0,
   "metadata": {
    "application/vnd.databricks.v1+cell": {
     "cellMetadata": {
      "byteLimit": 2048000,
      "rowLimit": 10000
     },
     "inputWidgets": {},
     "nuid": "d35d784b-ffbf-45cf-8fbb-57e80e358869",
     "showTitle": false,
     "title": ""
    }
   },
   "outputs": [
    {
     "output_type": "stream",
     "name": "stdout",
     "output_type": "stream",
     "text": [
      "+------+------+----------+--------------------+----------+----------+----------+---------+-----------+----------+----------+--------+------+--------+--------+\n|MARKET|SERIES|    SYMBOL|            SECURITY|PREV_CL_PR|OPEN_PRICE|HIGH_PRICE|LOW_PRICE|CLOSE_PRICE|NET_TRDVAL|NET_TRDQTY|CORP_IND|TRADES|HI_52_WK|LO_52_WK|\n+------+------+----------+--------------------+----------+----------+----------+---------+-----------+----------+----------+--------+------+--------+--------+\n|     N|    N1|      IRFC|BOND 8.00% PA TAX...|      1086|      1085|      1085|  1084.54|       1085|3371959.44|      3108|        |     8|    1194|    1050|\n|     N|    N1|      JNPT|BOND 6.82% PA TAX...|      1001|    1007.1|      1015|   1007.1|       1015|     51370|        51|        |     2| 1529.99|    1000|\n|     N|    N1|      NHAI|BOND 8.20% PA TAX...|   1091.38|      1092|      1092|     1087|    1089.98|3861145.49|      3544|        |    39|    1140|    1045|\n|     N|    N1|      NTPC|8.41%S-R-NCD SERI...|   1198.99|      1135|      1135|     1135|       1135|    113500|       100|        |     1|    1275|  1022.1|\n|     N|    N1|    RECLTD|TAXFREE SEC NCD T...|   1083.54|      1088|      1088|     1085|       1085|    108530|       100|        |     2|  1184.8|    1041|\n|     N|    N2| BRITANNIA|   8.00% SEC RED NCD|     33.07|     33.07|      33.2|     32.8|      33.14| 677372.39|     20461|        |   107|      36|    29.9|\n|     N|    N2|     HUDCO|8.20 NCD05MAR27 F...|      1215|      1222|      1222|     1222|       1222|      3666|         3|        |     2|    1311|    1171|\n|     N|    N2|     IIFCL|  8.66% TAX FREE NCD|      1135|      1137|      1137|     1137|       1137|      4548|         4|        |     1|    1390|  1101.1|\n|     N|    N2|    M&MFIN| 9.00% UNSECURED NCD|      1104|   1101.98|   1101.98|  1080.05|    1089.43|  423116.5|       388|        |    12|    1229|  1049.5|\n|     N|    N2|    NABARD|7.64% TAX FREE TR...|    1238.5|   1239.01|   1239.55|  1237.01|    1238.22| 125060.45|       101|        |     4|  1304.8|    1181|\n|     N|    N2|      NHAI|BOND 8.30% PA TAX...|    1258.5|    1255.5|      1257|   1253.1|    1256.45|  464590.5|       370|        |     6|  1294.9|    1176|\n|     N|    N2|      NTPC|8.48%S-R-NCD SERI...|      1282|    1282.5|      1283|   1282.5|       1283|    128275|       100|        |     2|    1854|    1225|\n|     N|    N2|     PCHFL|SEC RE NCD 8.35% ...|      1000|      1000|   1004.67|     1000|    1001.68| 526800.91|       526|        |    17|    1028|  981.01|\n|     N|    N2|    RECLTD|TAXFREE SEC NCD T...|      1207|      1192|      1192|     1192|       1192|    238400|       200|        |     1|    1288|    1160|\n|     N|    N2|TATACAPHSG|SEC RED NCD 8.10%...|   1054.21|   1055.01|      1058|     1055|       1058| 1105942.5|      1048|        |    42|    1160|     950|\n|     N|    N3| BRITANNIA| UNSEC RED NCD 5.50%|     29.43|      29.4|      29.7|    29.38|      29.47|4233217.99|    143810|        |   787|    30.5|      29|\n|     N|    N3|DHANILOANS|DHANI LOANS & SER...|      1008|      1002|      1003|     1002|       1003|     78158|        78|        |     5|    1030|     810|\n|     N|    N3|     HUDCO|8.10 NCD 05MAR22 ...|   1054.84|   1054.84|    1055.9|  1054.52|    1054.91|1729096.92|      1639|        |    19|    1320|    1000|\n|     N|    N4|DHANILOANS|DHANI LOANS & SER...|    1020.8|   1022.01|   1022.01|  1022.01|    1022.01|   2044.02|         2|        |     1| 1098.75|     851|\n|     N|    N4|  ERFLNCDI|SEC RED NCD 9.00%...|       986|    988.22|    988.22|   988.22|     988.22|   29646.6|        30|        |     1|    1050|  829.95|\n+------+------+----------+--------------------+----------+----------+----------+---------+-----------+----------+----------+--------+------+--------+--------+\nonly showing top 20 rows\n\n"
     ]
    }
   ],
   "source": [
    "df = spark.createDataFrame(data = rdd1, schema = ['MARKET','SERIES','SYMBOL','SECURITY','PREV_CL_PR','OPEN_PRICE','HIGH_PRICE','LOW_PRICE','CLOSE_PRICE','NET_TRDVAL','NET_TRDQTY','CORP_IND','TRADES','HI_52_WK','LO_52_WK'])\n",
    "df.show()"
   ]
  },
  {
   "cell_type": "code",
   "execution_count": 0,
   "metadata": {
    "application/vnd.databricks.v1+cell": {
     "cellMetadata": {
      "byteLimit": 2048000,
      "rowLimit": 10000
     },
     "inputWidgets": {},
     "nuid": "354bc522-8de6-4712-a77a-b9fde393ddf3",
     "showTitle": false,
     "title": ""
    }
   },
   "outputs": [],
   "source": [
    "\n",
    "df.createOrReplaceTempView('sales')\n"
   ]
  },
  {
   "cell_type": "code",
   "execution_count": 0,
   "metadata": {
    "application/vnd.databricks.v1+cell": {
     "cellMetadata": {
      "byteLimit": 2048000,
      "rowLimit": 10000
     },
     "inputWidgets": {},
     "nuid": "7f3f07ac-8539-4012-94ec-e97a4acbe5c0",
     "showTitle": false,
     "title": ""
    }
   },
   "outputs": [
    {
     "output_type": "stream",
     "name": "stdout",
     "output_type": "stream",
     "text": [
      "+------+------+------+--------------------+----------+----------+----------+---------+-----------+----------+----------+--------+------+--------+--------+\n|MARKET|SERIES|SYMBOL|            SECURITY|PREV_CL_PR|OPEN_PRICE|HIGH_PRICE|LOW_PRICE|CLOSE_PRICE|NET_TRDVAL|NET_TRDQTY|CORP_IND|TRADES|HI_52_WK|LO_52_WK|\n+------+------+------+--------------------+----------+----------+----------+---------+-----------+----------+----------+--------+------+--------+--------+\n|     N|    N1|  IRFC|BOND 8.00% PA TAX...|      1086|      1085|      1085|  1084.54|       1085|3371959.44|      3108|        |     8|    1194|    1050|\n|     N|    N1|  JNPT|BOND 6.82% PA TAX...|      1001|    1007.1|      1015|   1007.1|       1015|     51370|        51|        |     2| 1529.99|    1000|\n|     N|    N1|  NHAI|BOND 8.20% PA TAX...|   1091.38|      1092|      1092|     1087|    1089.98|3861145.49|      3544|        |    39|    1140|    1045|\n|     N|    N1|  NTPC|8.41%S-R-NCD SERI...|   1198.99|      1135|      1135|     1135|       1135|    113500|       100|        |     1|    1275|  1022.1|\n|     N|    N1|RECLTD|TAXFREE SEC NCD T...|   1083.54|      1088|      1088|     1085|       1085|    108530|       100|        |     2|  1184.8|    1041|\n+------+------+------+--------------------+----------+----------+----------+---------+-----------+----------+----------+--------+------+--------+--------+\n\n"
     ]
    }
   ],
   "source": [
    "spark.sql('SELECT * FROM SALES LIMIT 5').show()"
   ]
  },
  {
   "cell_type": "code",
   "execution_count": 0,
   "metadata": {
    "application/vnd.databricks.v1+cell": {
     "cellMetadata": {
      "byteLimit": 2048000,
      "rowLimit": 10000
     },
     "inputWidgets": {},
     "nuid": "de6eed64-f368-4cee-a6fc-33246f2511d4",
     "showTitle": false,
     "title": ""
    }
   },
   "outputs": [
    {
     "output_type": "stream",
     "name": "stdout",
     "output_type": "stream",
     "text": [
      "Out[7]: 53"
     ]
    }
   ],
   "source": [
    "spark.sql(\"SELECT DISTINCT SERIES FROM sales\").count()"
   ]
  },
  {
   "cell_type": "code",
   "execution_count": 0,
   "metadata": {
    "application/vnd.databricks.v1+cell": {
     "cellMetadata": {
      "byteLimit": 2048000,
      "rowLimit": 10000
     },
     "inputWidgets": {},
     "nuid": "fbe7e127-1512-484d-8215-a1a6f2dcc4fb",
     "showTitle": false,
     "title": ""
    }
   },
   "outputs": [
    {
     "output_type": "stream",
     "name": "stdout",
     "output_type": "stream",
     "text": [
      "+------+\n|SERIES|\n+------+\n|    NA|\n|    N3|\n|    NC|\n|    N7|\n|    N8|\n|    N2|\n|    N5|\n|    N4|\n|    N6|\n|    N1|\n|    N9|\n|    NB|\n|    NS|\n|    NL|\n|    NK|\n|    NJ|\n|    NX|\n|    NW|\n|    NP|\n|    NH|\n+------+\nonly showing top 20 rows\n\n"
     ]
    }
   ],
   "source": [
    "spark.sql(\"SELECT DISTINCT SERIES FROM SALES\").show()\n"
   ]
  },
  {
   "cell_type": "code",
   "execution_count": 0,
   "metadata": {
    "application/vnd.databricks.v1+cell": {
     "cellMetadata": {
      "byteLimit": 2048000,
      "rowLimit": 10000
     },
     "inputWidgets": {},
     "nuid": "b75c97b0-bd49-4adc-b432-4d3feca93f15",
     "showTitle": false,
     "title": ""
    }
   },
   "outputs": [
    {
     "output_type": "stream",
     "name": "stdout",
     "output_type": "stream",
     "text": [
      "+------+------------------+\n|SERIES|       TOTAL_SALES|\n+------+------------------+\n|    NA|          79628.91|\n|    N3| 8348.119999999999|\n|    NC|          57412.31|\n|    N7|13045.900000000001|\n|    N8|32583.230000000003|\n|    N2|          42048.85|\n|    N5|          35092.07|\n|    N4|47750.659999999996|\n|    N6|         105463.81|\n|    N1|          21630.72|\n|    N9|           32401.0|\n|    NB|          28642.17|\n|    YH|           4098.02|\n|    NS|            4129.0|\n|    NL|13611.080000000002|\n|    NK|7731.4800000000005|\n|    Z4|            4124.2|\n|    NJ|          17155.18|\n|    NX|           1275.88|\n|    YS|            4530.0|\n|    NW|            4356.1|\n|    Z8|            4151.0|\n|    YA|           1113.98|\n|    NP|            5172.2|\n|    NH|          18790.36|\n|    NE|          67285.44|\n|    NQ|            1260.0|\n|    Z1|           5116.11|\n|    NR|           4891.44|\n|    Y6|            4164.0|\n|    YV|            4146.0|\n|    ND|14821.009999999998|\n|    Y2|            1226.0|\n|    ZJ|           4484.04|\n|    Z5|            4240.0|\n|    NM|            4226.6|\n|    NU|            4534.4|\n|    NN|           9722.58|\n|    ZI|            4280.0|\n|    ZF|            4030.2|\n|    YP|            4320.0|\n|    NY|           5670.21|\n|    YQ|            4312.0|\n|    YK|            4126.0|\n|    Z7|            4084.0|\n|    YR|            4333.0|\n|    Y7|            1200.0|\n|    NI|           20673.0|\n|    NO|          14418.02|\n|    Y9| 4474.570000000001|\n|    NG|12457.630000000001|\n|    NF|          17909.15|\n|    Y5|            4344.0|\n+------+------------------+\n\n"
     ]
    }
   ],
   "source": [
    "spark.sql(\"SELECT SERIES, SUM(OPEN_PRICE+HIGH_PRICE+LOW_PRICE+CLOSE_PRICE) as  TOTAL_SALES FROM sales GROUP BY SERIES\").show(100)\n"
   ]
  },
  {
   "cell_type": "code",
   "execution_count": 0,
   "metadata": {
    "application/vnd.databricks.v1+cell": {
     "cellMetadata": {
      "byteLimit": 2048000,
      "rowLimit": 10000
     },
     "inputWidgets": {},
     "nuid": "3c8c41fb-847e-423f-9056-39cee3ab8d79",
     "showTitle": false,
     "title": ""
    }
   },
   "outputs": [
    {
     "output_type": "stream",
     "name": "stdout",
     "output_type": "stream",
     "text": [
      "+--------------------+------+---------------+\n|            security|series|max(NET_TRDVAL)|\n+--------------------+------+---------------+\n|  10.25% SRNCD SR IX|    N9|           5240|\n|7.34 NCD 16FEB23 ...|    N4|       118037.8|\n|7.43% TAX FREE TR...|    NH|         127200|\n|7.51 NCD 16FEB28 ...|    N5|      2456326.6|\n|7.64% TAX FREE TR...|    N2|      125060.45|\n|7.64% TAX FREETRI...|    N8|        1458346|\n|  7.74% TAX FREE NCD|    N7|      349804.56|\n|   8.00% SEC RED NCD|    N2|      677372.39|\n|8.10 NCD 05MAR22 ...|    N3|     1729096.92|\n|8.12/8.32% TAX FR...|    NI|         835750|\n+--------------------+------+---------------+\nonly showing top 10 rows\n\n"
     ]
    }
   ],
   "source": [
    "spark.sql(\"SELECT security,series,max(NET_TRDVAL) FROM sales GROUP BY security,series\").show(10)\n"
   ]
  },
  {
   "cell_type": "code",
   "execution_count": 0,
   "metadata": {
    "application/vnd.databricks.v1+cell": {
     "cellMetadata": {
      "byteLimit": 2048000,
      "rowLimit": 10000
     },
     "inputWidgets": {},
     "nuid": "2d59d076-dc96-415d-ad75-683d629f162b",
     "showTitle": false,
     "title": ""
    }
   },
   "outputs": [
    {
     "output_type": "stream",
     "name": "stdout",
     "output_type": "stream",
     "text": [
      "+------+-----------+-----------+\n|SERIES|TOTAL_PRICE|TOTAL_TRADE|\n+------+-----------+-----------+\n|    N2|     4888.0|       3666|\n|    N4|    4088.04|    2044.02|\n|    N5|     3824.8|     1912.4|\n|    N6|     5364.0|       1341|\n|    NB|     3686.0|       1843|\n+------+-----------+-----------+\n\n"
     ]
    }
   ],
   "source": [
    "spark.sql(\"SELECT SERIES, (OPEN_PRICE+HIGH_PRICE+LOW_PRICE+CLOSE_PRICE) as TOTAL_PRICE ,(NET_TRDVAL) as TOTAL_TRADE FROM SALES WHERE OPEN_PRICE+HIGH_PRICE+LOW_PRICE+CLOSE_PRICE>NET_TRDVAL AND NET_TRDVAL IS NOT NULL\").show()\n"
   ]
  },
  {
   "cell_type": "code",
   "execution_count": 0,
   "metadata": {
    "application/vnd.databricks.v1+cell": {
     "cellMetadata": {
      "byteLimit": 2048000,
      "rowLimit": 10000
     },
     "inputWidgets": {},
     "nuid": "2b4a10b0-801f-4a41-8dfe-7cdcad97960b",
     "showTitle": false,
     "title": ""
    }
   },
   "outputs": [
    {
     "output_type": "stream",
     "name": "stdout",
     "output_type": "stream",
     "text": [
      "+------+----------+\n|SERIES|NET_TRDVAL|\n+------+----------+\n|    N4|  972888.7|\n+------+----------+\n\n"
     ]
    }
   ],
   "source": [
    "spark.sql(\"SELECT SERIES,NET_TRDVAL FROM SALES WHERE NET_TRDVAL = (SELECT MAX(NET_TRDVAL) FROM SALES )\").show()\n"
   ]
  },
  {
   "cell_type": "code",
   "execution_count": 0,
   "metadata": {
    "application/vnd.databricks.v1+cell": {
     "cellMetadata": {
      "byteLimit": 2048000,
      "rowLimit": 10000
     },
     "inputWidgets": {},
     "nuid": "c8f07301-2720-45b4-84e8-53fe2bcc35e2",
     "showTitle": false,
     "title": ""
    }
   },
   "outputs": [
    {
     "output_type": "stream",
     "name": "stdout",
     "output_type": "stream",
     "text": [
      "+---------+---------+\n|MAX_PRICE|MIN_PRICE|\n+---------+---------+\n|  11450.0|    13.75|\n+---------+---------+\n\n"
     ]
    }
   ],
   "source": [
    "spark.sql(\"SELECT MAX(CAST(OPEN_PRICE AS FLOAT)) as MAX_PRICE,MIN(CAST(OPEN_PRICE AS FLOAT)) as  MIN_PRICE FROM SALES\").show()\n"
   ]
  },
  {
   "cell_type": "code",
   "execution_count": 0,
   "metadata": {
    "application/vnd.databricks.v1+cell": {
     "cellMetadata": {
      "byteLimit": 2048000,
      "rowLimit": 10000
     },
     "inputWidgets": {},
     "nuid": "f52b54d9-523b-48fc-86f4-193a0ea37692",
     "showTitle": false,
     "title": ""
    }
   },
   "outputs": [
    {
     "output_type": "stream",
     "name": "stdout",
     "output_type": "stream",
     "text": [
      "+------+\n|SERIES|\n+------+\n|    N2|\n|    N3|\n|    N7|\n+------+\n\n"
     ]
    }
   ],
   "source": [
    "spark.sql(\"SELECT SERIES FROM SALES WHERE TRADES > 80\").show()\n"
   ]
  },
  {
   "cell_type": "code",
   "execution_count": 0,
   "metadata": {
    "application/vnd.databricks.v1+cell": {
     "cellMetadata": {
      "byteLimit": 2048000,
      "rowLimit": 10000
     },
     "inputWidgets": {},
     "nuid": "ab784a2a-55f2-44f8-9c68-b3615153bc75",
     "showTitle": false,
     "title": ""
    }
   },
   "outputs": [
    {
     "output_type": "stream",
     "name": "stdout",
     "output_type": "stream",
     "text": [
      "+------+------------------+\n|SERIES|        Difference|\n+------+------------------+\n|    NA|        3331953.97|\n|    N3|        5894945.91|\n|    NC|        2505038.79|\n|    N7|        2218463.04|\n|    N8|        3982020.85|\n|    N2|        3674571.25|\n|    N5|        5581855.67|\n|    N4|3474029.2199999997|\n|    N6|     1.678578209E7|\n|    N1|        7499601.93|\n+------+------------------+\nonly showing top 10 rows\n\n"
     ]
    }
   ],
   "source": [
    "spark.sql(\"SELECT SERIES,SUM(NET_TRDVAL-NET_TRDQTY) as Difference FROM SALES GROUP BY SERIES\").show(10)\n"
   ]
  },
  {
   "cell_type": "code",
   "execution_count": 0,
   "metadata": {
    "application/vnd.databricks.v1+cell": {
     "cellMetadata": {},
     "inputWidgets": {},
     "nuid": "1e4d1003-874b-4a10-81b4-7e4e29436ded",
     "showTitle": false,
     "title": ""
    }
   },
   "outputs": [],
   "source": []
  }
 ],
 "metadata": {
  "application/vnd.databricks.v1+notebook": {
   "dashboards": [],
   "language": "python",
   "notebookMetadata": {
    "pythonIndentUnit": 4
   },
   "notebookName": "myjupy2_share",
   "notebookOrigID": 3935208884949000,
   "widgets": {}
  }
 },
 "nbformat": 4,
 "nbformat_minor": 0
}
