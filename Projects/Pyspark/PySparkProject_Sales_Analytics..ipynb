{
 "cells": [
  {
   "cell_type": "code",
   "execution_count": 0,
   "metadata": {
    "application/vnd.databricks.v1+cell": {
     "cellMetadata": {
      "byteLimit": 2048000,
      "rowLimit": 10000
     },
     "inputWidgets": {},
     "nuid": "7e01af04-fb05-4dd5-b637-82e68a98ba5b",
     "showTitle": false,
     "title": ""
    }
   },
   "outputs": [],
   "source": [
    "from pyspark import SparkContext\n"
   ]
  },
  {
   "cell_type": "code",
   "execution_count": 0,
   "metadata": {
    "application/vnd.databricks.v1+cell": {
     "cellMetadata": {
      "byteLimit": 2048000,
      "rowLimit": 10000
     },
     "inputWidgets": {},
     "nuid": "f4e8135e-876e-4bbc-8850-ae07ddcc9385",
     "showTitle": false,
     "title": ""
    }
   },
   "outputs": [],
   "source": [
    "\n",
    "rdd = sc.textFile(\"/FileStore/tables/5000_Sales_Records.csv\")"
   ]
  },
  {
   "cell_type": "code",
   "execution_count": 0,
   "metadata": {
    "application/vnd.databricks.v1+cell": {
     "cellMetadata": {
      "byteLimit": 2048000,
      "rowLimit": 10000
     },
     "inputWidgets": {},
     "nuid": "6fce0de9-f485-4437-83b8-6c5ace65e068",
     "showTitle": false,
     "title": ""
    }
   },
   "outputs": [
    {
     "output_type": "stream",
     "name": "stdout",
     "output_type": "stream",
     "text": [
      "Out[3]: ['Region,Country,Item Type,Sales Channel,Order Priority,Order Date,Order ID,Ship Date,Units Sold,Unit Price,Unit Cost,Total Revenue,Total Cost,Total Profit',\n 'Central America and the Caribbean,Antigua and Barbuda ,Baby Food,Online,M,12/20/2013,957081544,1/11/2014,552,255.28,159.42,140914.56,87999.84,52914.72',\n 'Central America and the Caribbean,Panama,Snacks,Offline,C,7/5/2010,301644504,7/26/2010,2167,152.58,97.44,330640.86,211152.48,119488.38',\n 'Europe,Czech Republic,Beverages,Offline,C,9/12/2011,478051030,9/29/2011,4778,47.45,31.79,226716.10,151892.62,74823.48',\n 'Asia,North Korea,Cereal,Offline,L,5/13/2010,892599952,6/15/2010,9016,205.70,117.11,1854591.20,1055863.76,798727.44']"
     ]
    }
   ],
   "source": [
    "rdd.take(5)\n"
   ]
  },
  {
   "cell_type": "code",
   "execution_count": 0,
   "metadata": {
    "application/vnd.databricks.v1+cell": {
     "cellMetadata": {
      "byteLimit": 2048000,
      "rowLimit": 10000
     },
     "inputWidgets": {},
     "nuid": "09438340-71f8-4c95-8d2b-06e9403c395f",
     "showTitle": false,
     "title": ""
    }
   },
   "outputs": [],
   "source": [
    "\n",
    "rdd1= rdd.cache()"
   ]
  },
  {
   "cell_type": "code",
   "execution_count": 0,
   "metadata": {
    "application/vnd.databricks.v1+cell": {
     "cellMetadata": {
      "byteLimit": 2048000,
      "rowLimit": 10000
     },
     "inputWidgets": {},
     "nuid": "f3f0bc14-a7bd-4e0d-ae86-072b5cb9f10c",
     "showTitle": false,
     "title": ""
    }
   },
   "outputs": [],
   "source": [
    "rdd11 = rdd1.map(lambda x : x.split(','))"
   ]
  },
  {
   "cell_type": "code",
   "execution_count": 0,
   "metadata": {
    "application/vnd.databricks.v1+cell": {
     "cellMetadata": {
      "byteLimit": 2048000,
      "rowLimit": 10000
     },
     "inputWidgets": {},
     "nuid": "19602040-917a-4782-99a6-92bd5f231de2",
     "showTitle": false,
     "title": ""
    }
   },
   "outputs": [],
   "source": [
    "\n",
    "header = rdd11.first()\n",
    "rdd2 = rdd11.filter(lambda row: row != header)"
   ]
  },
  {
   "cell_type": "code",
   "execution_count": 0,
   "metadata": {
    "application/vnd.databricks.v1+cell": {
     "cellMetadata": {
      "byteLimit": 2048000,
      "rowLimit": 10000
     },
     "inputWidgets": {},
     "nuid": "5ca9e388-dd98-46fe-8fea-8592345dc50e",
     "showTitle": false,
     "title": ""
    }
   },
   "outputs": [
    {
     "output_type": "stream",
     "name": "stdout",
     "output_type": "stream",
     "text": [
      "Out[19]: [['Central America and the Caribbean',\n  'Antigua and Barbuda ',\n  'Baby Food',\n  'Online',\n  'M',\n  '12/20/2013',\n  '957081544',\n  '1/11/2014',\n  '552',\n  '255.28',\n  '159.42',\n  '140914.56',\n  '87999.84',\n  '52914.72'],\n ['Central America and the Caribbean',\n  'Panama',\n  'Snacks',\n  'Offline',\n  'C',\n  '7/5/2010',\n  '301644504',\n  '7/26/2010',\n  '2167',\n  '152.58',\n  '97.44',\n  '330640.86',\n  '211152.48',\n  '119488.38'],\n ['Europe',\n  'Czech Republic',\n  'Beverages',\n  'Offline',\n  'C',\n  '9/12/2011',\n  '478051030',\n  '9/29/2011',\n  '4778',\n  '47.45',\n  '31.79',\n  '226716.10',\n  '151892.62',\n  '74823.48']]"
     ]
    }
   ],
   "source": [
    "rdd2.take(3)"
   ]
  },
  {
   "cell_type": "code",
   "execution_count": 0,
   "metadata": {
    "application/vnd.databricks.v1+cell": {
     "cellMetadata": {
      "byteLimit": 2048000,
      "rowLimit": 10000
     },
     "inputWidgets": {},
     "nuid": "5c7dd24f-466f-4a7f-a2b9-5f398071fc13",
     "showTitle": true,
     "title": "1.Display the total number of orders based on country"
    }
   },
   "outputs": [
    {
     "output_type": "stream",
     "name": "stdout",
     "output_type": "stream",
     "text": [
      "Out[11]: [('Antigua and Barbuda ', 26),\n ('North Korea', 24),\n ('Federated States of Micronesia', 20),\n ('Ethiopia', 26),\n ('Saint Lucia', 29),\n ('Lebanon', 31),\n ('Austria', 28),\n ('Mexico', 23),\n ('Trinidad and Tobago', 19),\n ('Libya', 32),\n ('Algeria', 28),\n ('Estonia', 23),\n ('Saudi Arabia', 23),\n ('Montenegro', 28),\n ('Guatemala', 28),\n ('Australia', 34),\n ('Malawi', 24),\n ('Somalia', 36),\n ('Switzerland', 28),\n ('Laos', 34),\n ('Angola', 16),\n ('Mauritania', 29),\n ('Finland', 23),\n ('Belgium', 26),\n ('Kiribati', 25),\n ('Uzbekistan', 27),\n ('South Korea', 36),\n ('Nigeria', 23),\n ('South Africa', 23),\n ('Netherlands', 24),\n ('Solomon Islands', 31),\n ('Iran', 29),\n ('Equatorial Guinea', 33),\n ('Iraq', 29),\n ('Mauritius ', 38),\n ('Eritrea', 19),\n ('Ukraine', 33),\n ('Myanmar', 33),\n ('Latvia', 27),\n ('Portugal', 25),\n ('Barbados', 26),\n ('Poland', 28),\n ('Zambia', 31),\n ('Slovenia', 27),\n ('Bhutan', 30),\n ('Cyprus', 30),\n ('Monaco', 13),\n ('Gabon', 22),\n ('Norway', 30),\n ('Thailand', 25),\n ('Tanzania', 27),\n ('Denmark', 26),\n ('China', 27),\n ('United States of America', 38),\n ('Philippines', 24),\n ('Kuwait', 26),\n ('Turkmenistan', 31),\n ('Kosovo', 35),\n ('Hungary', 25),\n ('Pakistan', 27),\n ('Mozambique', 25),\n ('Kazakhstan', 24),\n ('East Timor', 27),\n ('Liberia', 27),\n ('Albania', 21),\n ('Moldova ', 24),\n ('India', 25),\n ('Republic of the Congo', 31),\n ('France', 26),\n (\"Cote d'Ivoire\", 32),\n ('Costa Rica', 26),\n ('Honduras', 33),\n ('Macedonia', 32),\n ('Greece', 32),\n ('Cambodia', 26),\n ('Botswana', 31),\n ('Vietnam', 19),\n ('Togo', 30),\n ('Kenya', 28),\n ('Andorra', 40),\n ('Iceland', 23),\n ('Marshall Islands', 26),\n ('Slovakia', 30),\n ('Ghana', 38),\n ('Bahrain', 18),\n ('Nepal', 28),\n ('Maldives', 20),\n ('Guinea-Bissau', 29),\n ('Ireland', 30),\n ('El Salvador', 24),\n ('Palau', 25),\n ('Fiji', 28),\n ('Belize', 20),\n ('Cape Verde', 14),\n ('Panama', 32),\n ('Czech Republic', 31),\n ('Sri Lanka', 31),\n ('Morocco', 21),\n ('Bosnia and Herzegovina', 33),\n ('Afghanistan', 19),\n ('Turkey', 25),\n ('Oman', 31),\n ('Malaysia', 27),\n ('Saint Vincent and the Grenadines', 22),\n ('Bulgaria', 30),\n ('Tuvalu', 22),\n ('Cuba', 28),\n ('Guinea', 33),\n ('Vanuatu', 35),\n ('United Arab Emirates', 25),\n ('Luxembourg', 28),\n ('Benin', 27),\n ('Kyrgyzstan', 29),\n ('Taiwan', 31),\n ('San Marino', 40),\n ('Samoa ', 35),\n ('Central African Republic', 26),\n ('Dominica', 18),\n ('Qatar', 32),\n ('Sudan', 34),\n ('Russia', 32),\n ('Azerbaijan', 27),\n ('Serbia', 29),\n ('Mongolia', 15),\n ('Grenada', 36),\n ('Namibia', 21),\n ('Senegal', 30),\n ('Burundi', 26),\n ('Haiti', 36),\n ('Liechtenstein', 24),\n ('United Kingdom', 23),\n ('Malta', 32),\n ('Singapore', 23),\n ('Cameroon', 31),\n ('Djibouti', 26),\n ('Uganda', 22),\n ('The Gambia', 19),\n ('Armenia', 29),\n ('Jordan', 31),\n ('Tonga', 37),\n ('Mali', 33),\n ('Swaziland', 25),\n ('Seychelles ', 30),\n ('Madagascar', 24),\n ('South Sudan', 25),\n ('Nicaragua', 20),\n ('Chad', 27),\n ('Lithuania', 25),\n ('Saint Kitts and Nevis ', 32),\n ('Jamaica', 27),\n ('Japan', 21),\n ('The Bahamas', 23),\n ('Egypt', 25),\n ('Democratic Republic of the Congo', 23),\n ('Comoros', 25),\n ('Rwanda', 30),\n ('Spain', 26),\n ('Israel', 23),\n ('Sweden', 29),\n ('Indonesia', 28),\n ('Yemen', 22),\n ('Italy', 30),\n ('New Zealand', 26),\n ('Tajikistan', 25),\n ('Dominican Republic', 29),\n ('Germany', 26),\n ('Tunisia ', 31),\n ('Sao Tome and Principe', 24),\n ('Brunei', 34),\n ('Nauru', 25),\n ('Croatia', 18),\n ('Papua New Guinea', 20),\n ('Niger', 35),\n ('Vatican City', 23),\n ('Belarus', 28),\n ('Bangladesh', 22),\n ('Greenland', 26),\n ('Sierra Leone', 23),\n ('Lesotho', 23),\n ('Zimbabwe', 21),\n ('Romania', 34),\n ('Georgia', 23),\n ('Canada', 19),\n ('Burkina Faso', 26),\n ('Syria', 19)]"
     ]
    }
   ],
   "source": [
    "rdd3=rdd2.map(lambda x:(x[1],1)).reduceByKey(lambda x,y:x+y)\n",
    "rdd3.collect()"
   ]
  },
  {
   "cell_type": "code",
   "execution_count": 0,
   "metadata": {
    "application/vnd.databricks.v1+cell": {
     "cellMetadata": {
      "byteLimit": 2048000,
      "rowLimit": 10000
     },
     "inputWidgets": {},
     "nuid": "edc17ded-31da-4809-b7c8-33c2365f2abf",
     "showTitle": false,
     "title": ""
    }
   },
   "outputs": [],
   "source": [
    "rdd33 = rdd3.repartition(1)"
   ]
  },
  {
   "cell_type": "code",
   "execution_count": 0,
   "metadata": {
    "application/vnd.databricks.v1+cell": {
     "cellMetadata": {
      "byteLimit": 2048000,
      "rowLimit": 10000
     },
     "inputWidgets": {},
     "nuid": "773e5e7a-0ae4-41cf-92e0-2e9fa446e8c5",
     "showTitle": false,
     "title": ""
    }
   },
   "outputs": [],
   "source": [
    "\n",
    "def toCSVLine(data):\n",
    "   return ','.join(str(d) for d in data)\n",
    "\n",
    "lines = rdd33.map(toCSVLine)\n",
    "lines.saveAsTextFile('/FileStore/tables/output1.csv')\n",
    "     "
   ]
  },
  {
   "cell_type": "code",
   "execution_count": 0,
   "metadata": {
    "application/vnd.databricks.v1+cell": {
     "cellMetadata": {
      "byteLimit": 2048000,
      "rowLimit": 10000
     },
     "inputWidgets": {},
     "nuid": "db2e266c-dfb1-4cd5-8c5a-27996f5690ed",
     "showTitle": false,
     "title": ""
    }
   },
   "outputs": [
    {
     "output_type": "stream",
     "name": "stdout",
     "output_type": "stream",
     "text": [
      "Out[14]: ['Antigua and Barbuda ,26',\n 'North Korea,24',\n 'Federated States of Micronesia,20',\n 'Ethiopia,26',\n 'Saint Lucia,29']"
     ]
    }
   ],
   "source": [
    "lines.take(5)"
   ]
  },
  {
   "cell_type": "code",
   "execution_count": 0,
   "metadata": {
    "application/vnd.databricks.v1+cell": {
     "cellMetadata": {
      "byteLimit": 2048000,
      "rowLimit": 10000
     },
     "inputWidgets": {},
     "nuid": "3270fe1b-7b78-4ad7-b9ef-1c08d9eef52b",
     "showTitle": true,
     "title": "2.Display the number units sold in each region"
    }
   },
   "outputs": [
    {
     "output_type": "stream",
     "name": "stdout",
     "output_type": "stream",
     "text": [
      "Out[18]: [('Asia', 3620036),\n ('Middle East and North Africa', 3013431),\n ('Australia and Oceania', 2111786),\n ('Central America and the Caribbean', 2698776),\n ('Europe', 6582322)]"
     ]
    }
   ],
   "source": [
    "#rdd22=rdd2.map(lambda x:x.split(','))\n",
    "rdd4=rdd2.map(lambda x: (x[0],int(x[8])))\n",
    "rdd5=rdd4.reduceByKey(lambda x,y:x+y)\n",
    "rdd5.take(5)\n"
   ]
  },
  {
   "cell_type": "code",
   "execution_count": 0,
   "metadata": {
    "application/vnd.databricks.v1+cell": {
     "cellMetadata": {
      "byteLimit": 2048000,
      "rowLimit": 10000
     },
     "inputWidgets": {},
     "nuid": "86dd8b7a-5449-40e8-aef8-924e2a3cc80a",
     "showTitle": true,
     "title": "3.Display 10 most recent sales"
    }
   },
   "outputs": [],
   "source": [
    "from datetime import datetime\n",
    "rdd6= rdd2.map(lambda x :(x[6],datetime(int(x[5]))))\n"
   ]
  },
  {
   "cell_type": "code",
   "execution_count": 0,
   "metadata": {
    "application/vnd.databricks.v1+cell": {
     "cellMetadata": {
      "byteLimit": 2048000,
      "rowLimit": 10000
     },
     "inputWidgets": {},
     "nuid": "b342d5ee-8e2d-4dde-a3a1-4e71c0a95ca5",
     "showTitle": false,
     "title": ""
    }
   },
   "outputs": [
    {
     "output_type": "stream",
     "name": "stdout",
     "output_type": "stream",
     "text": [
      "Out[24]: [['Central America and the Caribbean',\n  'Antigua and Barbuda ',\n  'Baby Food',\n  'Online',\n  'M',\n  datetime.datetime(2013, 12, 20, 0, 0),\n  '957081544',\n  '1/11/2014',\n  '552',\n  '255.28',\n  '159.42',\n  '140914.56',\n  '87999.84',\n  '52914.72'],\n ['Central America and the Caribbean',\n  'Panama',\n  'Snacks',\n  'Offline',\n  'C',\n  datetime.datetime(2010, 7, 5, 0, 0),\n  '301644504',\n  '7/26/2010',\n  '2167',\n  '152.58',\n  '97.44',\n  '330640.86',\n  '211152.48',\n  '119488.38'],\n ['Europe',\n  'Czech Republic',\n  'Beverages',\n  'Offline',\n  'C',\n  datetime.datetime(2011, 9, 12, 0, 0),\n  '478051030',\n  '9/29/2011',\n  '4778',\n  '47.45',\n  '31.79',\n  '226716.10',\n  '151892.62',\n  '74823.48']]"
     ]
    }
   ],
   "source": [
    "rdd6 = rdd2.map(lambda row: row[:5] + [datetime.strptime(row[5],'%m/%d/%Y')] + row[6:])\n",
    "rdd6.take(3)"
   ]
  },
  {
   "cell_type": "code",
   "execution_count": 0,
   "metadata": {
    "application/vnd.databricks.v1+cell": {
     "cellMetadata": {
      "byteLimit": 2048000,
      "rowLimit": 10000
     },
     "inputWidgets": {},
     "nuid": "be83d6bc-4837-4a05-8747-cff7b8bc62c4",
     "showTitle": true,
     "title": ""
    }
   },
   "outputs": [
    {
     "output_type": "stream",
     "name": "stdout",
     "output_type": "stream",
     "text": [
      "Out[25]: [['Asia',\n  'Bhutan',\n  'Cereal',\n  'Offline',\n  'M',\n  '7/28/2017',\n  '223854434',\n  '8/25/2017',\n  '2356',\n  '205.70',\n  '117.11',\n  '484629.20',\n  '275911.16',\n  '208718.04'],\n ['Sub-Saharan Africa',\n  'Senegal',\n  'Cosmetics',\n  'Online',\n  'C',\n  '7/26/2017',\n  '537970721',\n  '8/18/2017',\n  '6346',\n  '437.20',\n  '263.33',\n  '2774471.20',\n  '1671092.18',\n  '1103379.02'],\n ['Middle East and North Africa',\n  'United Arab Emirates',\n  'Household',\n  'Online',\n  'C',\n  '7/26/2017',\n  '419542396',\n  '8/8/2017',\n  '773',\n  '668.27',\n  '502.54',\n  '516572.71',\n  '388463.42',\n  '128109.29'],\n ['Australia and Oceania',\n  'Australia',\n  'Beverages',\n  'Online',\n  'L',\n  '7/26/2017',\n  '631485402',\n  '8/12/2017',\n  '9418',\n  '47.45',\n  '31.79',\n  '446884.10',\n  '299398.22',\n  '147485.88'],\n ['Sub-Saharan Africa',\n  \"Cote d'Ivoire\",\n  'Vegetables',\n  'Online',\n  'H',\n  '7/24/2017',\n  '588388097',\n  '8/25/2017',\n  '5968',\n  '154.06',\n  '90.93',\n  '919430.08',\n  '542670.24',\n  '376759.84'],\n ['Sub-Saharan Africa',\n  'Chad',\n  'Household',\n  'Online',\n  'L',\n  '7/24/2017',\n  '586341464',\n  '7/31/2017',\n  '324',\n  '668.27',\n  '502.54',\n  '216519.48',\n  '162822.96',\n  '53696.52'],\n ['Australia and Oceania',\n  'Vanuatu',\n  'Office Supplies',\n  'Online',\n  'C',\n  '7/24/2017',\n  '480310952',\n  '8/11/2017',\n  '3539',\n  '651.21',\n  '524.96',\n  '2304632.19',\n  '1857833.44',\n  '446798.75'],\n ['Europe',\n  'Kosovo',\n  'Vegetables',\n  'Offline',\n  'C',\n  '7/23/2017',\n  '975080668',\n  '8/20/2017',\n  '6893',\n  '154.06',\n  '90.93',\n  '1061935.58',\n  '626780.49',\n  '435155.09'],\n ['Europe',\n  'San Marino',\n  'Snacks',\n  'Offline',\n  'C',\n  '7/22/2017',\n  '476453721',\n  '8/10/2017',\n  '2099',\n  '152.58',\n  '97.44',\n  '320265.42',\n  '204526.56',\n  '115738.86'],\n ['Australia and Oceania',\n  'Palau',\n  'Baby Food',\n  'Offline',\n  'H',\n  '7/21/2017',\n  '956778991',\n  '8/25/2017',\n  '1020',\n  '255.28',\n  '159.42',\n  '260385.60',\n  '162608.40',\n  '97777.20']]"
     ]
    }
   ],
   "source": [
    "rdd6.sortBy(lambda row : row[5],ascending=False).map(lambda row : row[:5] + [row[5].strftime('%-m/%-d/%Y')] +row[6:]).take(10)\n"
   ]
  },
  {
   "cell_type": "code",
   "execution_count": 0,
   "metadata": {
    "application/vnd.databricks.v1+cell": {
     "cellMetadata": {
      "byteLimit": 2048000,
      "rowLimit": 10000
     },
     "inputWidgets": {},
     "nuid": "7d8c4483-bbcb-4e51-870b-300bcbf8c92c",
     "showTitle": true,
     "title": "4.Display the products with atleast two occurencences of 'a'."
    }
   },
   "outputs": [
    {
     "output_type": "stream",
     "name": "stdout",
     "output_type": "stream",
     "text": [
      "Out[26]: [('Personal Care', 2)]"
     ]
    }
   ],
   "source": [
    "rdd7=rdd2.map(lambda x : (x[2],x[2].count('a')))\n",
    "rdd7.take(3)\n",
    "rdd77=rdd7.filter(lambda x:x[1]>1).distinct()\n",
    "rdd77.collect()"
   ]
  },
  {
   "cell_type": "code",
   "execution_count": 0,
   "metadata": {
    "application/vnd.databricks.v1+cell": {
     "cellMetadata": {
      "byteLimit": 2048000,
      "rowLimit": 10000
     },
     "inputWidgets": {},
     "nuid": "93bef833-a36f-4e13-a5cf-db5dc9aedb65",
     "showTitle": true,
     "title": "5.Display country in each region with highest unit sold."
    }
   },
   "outputs": [
    {
     "output_type": "stream",
     "name": "stdout",
     "output_type": "stream",
     "text": [
      "Out[27]: [('Asia', 'Thailand', 9991),\n ('Australia and Oceania', 'Samoa ', 9990),\n ('Middle East and North Africa', 'Libya', 9881),\n ('Central America and the Caribbean', 'Dominica', 9996),\n ('Europe', 'United Kingdom', 9999),\n ('Sub-Saharan Africa', 'Equatorial Guinea', 9984),\n ('North America', 'Greenland', 9898)]"
     ]
    }
   ],
   "source": [
    "data = rdd2.map(lambda row: (row[0], row[1], int(row[8])))\n",
    "max_unit_sold = data.groupBy(lambda row: (row[0], row[1])).mapValues(lambda rows: max(rows, key=lambda x: x[2]))\n",
    "result = max_unit_sold.groupBy(lambda row: row[1][0]).mapValues(lambda rows: max(rows, key=lambda x: x[1][2]))\n",
    "result.map(lambda row: row[1][1]).collect()\n"
   ]
  },
  {
   "cell_type": "code",
   "execution_count": 0,
   "metadata": {
    "application/vnd.databricks.v1+cell": {
     "cellMetadata": {
      "byteLimit": 2048000,
      "rowLimit": 10000
     },
     "inputWidgets": {},
     "nuid": "61123579-ab20-4a04-9f8f-25c5979a41fe",
     "showTitle": true,
     "title": "6. Display the unit price and unit cost of each item in ascending order ."
    }
   },
   "outputs": [
    {
     "output_type": "stream",
     "name": "stdout",
     "output_type": "stream",
     "text": [
      "Out[36]: [('Beverages', '47.45', 31.79),\n ('Clothes', '109.28', 35.84),\n ('Personal Care', '81.73', 56.67),\n ('Snacks', '152.58', 97.44),\n ('Baby Food', '255.28', 159.42)]"
     ]
    }
   ],
   "source": [
    "rdd8=rdd2.map(lambda row: (row[2],row[9],float(row[10]))).sortBy(lambda row: row[2] ,ascending=True).distinct()\n",
    "rdd8.take(5)"
   ]
  },
  {
   "cell_type": "code",
   "execution_count": 0,
   "metadata": {
    "application/vnd.databricks.v1+cell": {
     "cellMetadata": {
      "byteLimit": 2048000,
      "rowLimit": 10000
     },
     "inputWidgets": {},
     "nuid": "298f6554-04d0-4b2a-bc39-d5fbaa228864",
     "showTitle": true,
     "title": "7. Display the number of sales yearwise."
    }
   },
   "outputs": [
    {
     "output_type": "stream",
     "name": "stdout",
     "output_type": "stream",
     "text": [
      "Out[32]: [(2010, 3130137),\n (2016, 3280818),\n (2014, 3214899),\n (2012, 3485045),\n (2013, 3358584)]"
     ]
    }
   ],
   "source": [
    "rdd9=rdd6.map(lambda row : (row[5].year,int(row[8]))).groupByKey().mapValues(lambda row: sum(row))\n",
    "rdd9.take(5)"
   ]
  },
  {
   "cell_type": "code",
   "execution_count": 0,
   "metadata": {
    "application/vnd.databricks.v1+cell": {
     "cellMetadata": {
      "byteLimit": 2048000,
      "rowLimit": 10000
     },
     "inputWidgets": {},
     "nuid": "755cf089-0847-41a9-a939-6b08aba29412",
     "showTitle": true,
     "title": "8. Display the number of orders for each time."
    }
   },
   "outputs": [
    {
     "output_type": "stream",
     "name": "stdout",
     "output_type": "stream",
     "text": [
      "Out[33]: [('Baby Food', 445),\n ('Snacks', 398),\n ('Cereal', 385),\n ('Clothes', 386),\n ('Cosmetics', 424)]"
     ]
    }
   ],
   "source": [
    "rdd10=rdd2.map(lambda row: (row[2],1)).groupByKey().mapValues(lambda row: sum(row))\n",
    "rdd10.take(5)"
   ]
  },
  {
   "cell_type": "code",
   "execution_count": 0,
   "metadata": {
    "application/vnd.databricks.v1+cell": {
     "cellMetadata": {
      "byteLimit": 2048000,
      "rowLimit": 10000
     },
     "inputWidgets": {},
     "nuid": "36311a9f-0800-484f-8811-ef44feffec55",
     "showTitle": true,
     "title": "9.Display the country with highest sale."
    }
   },
   "outputs": [
    {
     "output_type": "stream",
     "name": "stdout",
     "output_type": "stream",
     "text": [
      "Out[34]: ('Zimbabwe', 93906)"
     ]
    }
   ],
   "source": [
    "\n",
    "rdd11=rdd2.map(lambda row: (row[1],int(row[8]))).groupByKey().mapValues(lambda row: sum(row)).max()\n",
    "rdd11"
   ]
  },
  {
   "cell_type": "code",
   "execution_count": 0,
   "metadata": {
    "application/vnd.databricks.v1+cell": {
     "cellMetadata": {},
     "inputWidgets": {},
     "nuid": "7057892d-e384-496f-8864-a5aa2c673ccb",
     "showTitle": false,
     "title": ""
    }
   },
   "outputs": [],
   "source": []
  }
 ],
 "metadata": {
  "application/vnd.databricks.v1+notebook": {
   "dashboards": [],
   "language": "python",
   "notebookMetadata": {
    "pythonIndentUnit": 4
   },
   "notebookName": "myjupy1_sales",
   "notebookOrigID": 3544242982522228,
   "widgets": {}
  }
 },
 "nbformat": 4,
 "nbformat_minor": 0
}
